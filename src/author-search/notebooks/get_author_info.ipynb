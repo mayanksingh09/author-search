{
 "cells": [
  {
   "cell_type": "markdown",
   "metadata": {},
   "source": [
    "# Huggingface AK and research community papers"
   ]
  },
  {
   "cell_type": "markdown",
   "metadata": {},
   "source": [
    "Flow to get info from AK and research community papers"
   ]
  },
  {
   "cell_type": "markdown",
   "metadata": {},
   "source": [
    "## Initial setup"
   ]
  },
  {
   "cell_type": "code",
   "execution_count": 1,
   "metadata": {},
   "outputs": [],
   "source": [
    "import sys\n",
    "import os\n",
    "\n",
    "current_dir = os.getcwd()\n",
    "parent_dir = os.path.abspath(os.path.join(current_dir, '..'))\n",
    "\n",
    "if parent_dir not in sys.path:\n",
    "    sys.path.append(parent_dir)\n",
    "\n",
    "from scripts.hf_scraper_script import HFPapersScraper\n",
    "from scripts.arxiv_utils import *"
   ]
  },
  {
   "cell_type": "markdown",
   "metadata": {},
   "source": [
    "## Getting a list of authors from the papers"
   ]
  },
  {
   "cell_type": "markdown",
   "metadata": {},
   "source": [
    "### 1. Get list of authors from a list of papers on huggingface: [AK and community daily papers](https://huggingface.co/papers)"
   ]
  },
  {
   "cell_type": "code",
   "execution_count": 2,
   "metadata": {},
   "outputs": [
    {
     "name": "stdout",
     "output_type": "stream",
     "text": [
      "2411.04923 ['Shehan Munasinghe', 'Hanan Gani', 'Wenqi Zhu', 'Jiale Cao', 'Eric Xing', 'Fahad Shahbaz Khan', 'Salman Khan']\n",
      "2411.05000 ['Jonathan Roberts', 'Kai Han', 'Samuel Albanie']\n",
      "2411.04075 ['Chuhan Li', 'Ziyao Shangguan', 'Yilun Zhao', 'Deyuan Li', 'Yixin Liu', 'Arman Cohan']\n",
      "2411.04905 ['Siming Huang', 'Tianhao Cheng', 'Jason Klein Liu', 'Jiaran Hao', 'Liuyihan Song', 'Yang Xu', 'J. Yang', 'J. H. Liu', 'Chenchen Zhang', 'Linzheng Chai', 'Ruifeng Yuan', 'Zhaoxiang Zhang', 'Jie Fu', 'Qian Liu', 'Ge Zhang', 'Zili Wang', 'Yuan Qi', 'Yinghui Xu', 'Wei Chu']\n",
      "2411.04928 ['Wenqiang Sun', 'Shuo Chen', 'Fangfu Liu', 'Zilong Chen', 'Yueqi Duan', 'Jun Zhang', 'Yikai Wang']\n",
      "2411.04989 ['Koichi Namekata', 'Sherwin Bahmani', 'Ziyi Wu', 'Yash Kant', 'Igor Gilitschenski', 'David B. Lindell']\n",
      "2411.04709 ['Wenhao Wang', 'Yi Yang']\n",
      "2411.05003 ['David Junhao Zhang', 'Roni Paiss', 'Shiran Zada', 'Nikhil Karnad', 'David E. Jacobs', 'Yael Pritch', 'Inbar Mosseri', 'Mike Zheng Shou', 'Neal Wadhwa', 'Nataniel Ruiz']\n",
      "2411.04999 ['Peiqi Liu', 'Zhanqiu Guo', 'Mohit Warke', 'Soumith Chintala', 'Chris Paxton', 'Nur Muhammad Mahi Shafiullah', 'Lerrel Pinto']\n",
      "2411.04996 ['Weixin Liang', 'Lili Yu', 'Liang Luo', 'Srinivasan Iyer', 'Ning Dong', 'Chunting Zhou', 'Gargi Ghosh', 'Mike Lewis', 'Wen-tau Yih', 'Luke Zettlemoyer', 'Xi Victoria Lin']\n",
      "2411.04752 ['Aniket Deroy', 'Subhankar Maity']\n",
      "2411.04965 ['Hongyu Wang', 'Shuming Ma', 'Furu Wei']\n",
      "2411.04496 ['Young-Jun Lee', 'Dokyong Lee', 'Junyoung Youn', 'Kyeongjin Oh', 'Ho-Jin Choi']\n",
      "2411.05007 ['Muyang Li', 'Yujun Lin', 'Zhekai Zhang', 'Tianle Cai', 'Xiuyu Li', 'Junxian Guo', 'Enze Xie', 'Chenlin Meng', 'Jun-Yan Zhu', 'Song Han']\n",
      "2411.05001 ['David M. Chan', 'Rodolfo Corona', 'Joonyong Park', 'Cheol Jun Cho', 'Yutong Bai', 'Trevor Darrell']\n",
      "2411.04335 ['He-Yen Hsieh', 'Ziyun Li', 'Sai Qian Zhang', 'Wei-Te Mark Ting', 'Kao-Den Chang', 'Barbara De Salvo', 'Chiao Liu', 'H. T. Kung']\n",
      "2411.05005 ['Shuhong Zheng', 'Zhipeng Bao', 'Ruoyu Zhao', 'Martial Hebert', 'Yu-Xiong Wang']\n",
      "2411.04952 ['Jaemin Cho', 'Debanjan Mahata', 'Ozan Irsoy', 'Yujie He', 'Mohit Bansal']\n"
     ]
    }
   ],
   "source": [
    "# initialize Huggingface scraper class\n",
    "hf_papers_scraper = HFPapersScraper()\n",
    "\n",
    "# get arxiv ids from the links\n",
    "arxiv_ids = hf_papers_scraper.get_paper_ids()\n",
    "\n",
    "# Loop through the arxiv ids and get the authors through the arxiv API and XML parsing\n",
    "for arxiv_id in arxiv_ids:\n",
    "    xml_content = get_content_by_id(arxiv_id)\n",
    "    print(arxiv_id, extract_paper_info(xml_content)[0]['authors'])"
   ]
  },
  {
   "cell_type": "markdown",
   "metadata": {},
   "source": [
    "### 2. Get list of paper authors by topic from ArXiv"
   ]
  },
  {
   "cell_type": "code",
   "execution_count": 16,
   "metadata": {},
   "outputs": [
    {
     "name": "stdout",
     "output_type": "stream",
     "text": [
      "Topic: negative sampling\n",
      "[('Entity Aware Negative Sampling with Auxiliary Loss of False Negative\\n  Prediction for Knowledge Graph Embedding', ['Sang-Hyun Je']), ('Does Negative Sampling Matter? A Review with Insights into its Theory\\n  and Applications', ['Zhen Yang', 'Ming Ding', 'Tinglin Huang', 'Yukuo Cen', 'Junshuai Song', 'Bin Xu', 'Yuxiao Dong', 'Jie Tang']), ('Bayesian Negative Sampling for Recommendation', ['Bin Liu', 'Bang Wang']), ('Synthetic Hard Negative Samples for Contrastive Learning', ['Hengkui Dong', 'Xianzhong Long', 'Yun Li', 'Lei Chen']), ('UFNRec: Utilizing False Negative Samples for Sequential Recommendation', ['Xiaoyang Liu', 'Chong Liu', 'Pinzheng Wang', 'Rongqin Zheng', 'Lixin Zhang', 'Leyu Lin', 'Zhijun Chen', 'Liangliang Fu']), ('Rethinking Samples Selection for Contrastive Learning: Mining of\\n  Potential Samples', ['Hengkui Dong', 'Xianzhong Long', 'Yun Li']), ('MixKG: Mixing for harder negative samples in knowledge graph', ['Feihu Che', 'Guohua Yang', 'Pengpeng Shao', 'Dawei Zhang', 'Jianhua Tao']), ('From Overfitting to Robustness: Quantity, Quality, and Variety Oriented\\n  Negative Sample Selection in Graph Contrastive Learning', ['Adnan Ali', 'Jinlong Li', 'Huanhuan Chen', 'Ali Kashif Bashir']), ('Augmented Negative Sampling for Collaborative Filtering', ['Yuhan Zhao', 'Rui Chen', 'Riwei Lai', 'Qilong Han', 'Hongtao Song', 'Li Chen']), ('Rethinking InfoNCE: How Many Negative Samples Do You Need?', ['Chuhan Wu', 'Fangzhao Wu', 'Yongfeng Huang'])]\n",
      "Topic: llm\n",
      "[('Large Language Models as Software Components: A Taxonomy for\\n  LLM-Integrated Applications', ['Irene Weber']), ('Parrot: Efficient Serving of LLM-based Applications with Semantic\\n  Variable', ['Chaofan Lin', 'Zhenhua Han', 'Chengruidong Zhang', 'Yuqing Yang', 'Fan Yang', 'Chen Chen', 'Lili Qiu']), ('A Survey of Large Language Models for Code: Evolution, Benchmarking, and\\n  Future Trends', ['Zibin Zheng', 'Kaiwen Ning', 'Yanlin Wang', 'Jingwen Zhang', 'Dewu Zheng', 'Mingxi Ye', 'Jiachi Chen']), ('A Survey of Large Language Models on Generative Graph Analytics: Query,\\n  Learning, and Applications', ['Wenbo Shang', 'Xin Huang']), (\"TEST: Text Prototype Aligned Embedding to Activate LLM's Ability for\\n  Time Series\", ['Chenxi Sun', 'Hongyan Li', 'Yaliang Li', 'Shenda Hong']), ('From LLMs to LLM-based Agents for Software Engineering: A Survey of\\n  Current, Challenges and Future', ['Haolin Jin', 'Linghan Huang', 'Haipeng Cai', 'Jun Yan', 'Bo Li', 'Huaming Chen']), ('Large Language Model Supply Chain: Open Problems From the Security\\n  Perspective', ['Qiang Hu', 'Xiaofei Xie', 'Sen Chen', 'Lei Ma']), ('MEGAnno+: A Human-LLM Collaborative Annotation System', ['Hannah Kim', 'Kushan Mitra', 'Rafael Li Chen', 'Sajjadur Rahman', 'Dan Zhang']), ('Why and When LLM-Based Assistants Can Go Wrong: Investigating the\\n  Effectiveness of Prompt-Based Interactions for Software Help-Seeking', ['Anjali Khurana', 'Hari Subramonyam', 'Parmit K Chilana']), ('Systematic Evaluation of LLM-as-a-Judge in LLM Alignment Tasks:\\n  Explainable Metrics and Diverse Prompt Templates', ['Hui Wei', 'Shenghua He', 'Tian Xia', 'Andy Wong', 'Jingyang Lin', 'Mei Han'])]\n",
      "Topic: ['reinforcement learning', 'transformers']\n",
      "[('Recurrence for vertex-reinforced random walks on Z with weak\\n  reinforcements', ['Arvind Singh']), ('Large deviations in the reinforced random walk model on trees', ['Yu Zhang']), ('Some Insights into Lifelong Reinforcement Learning Systems', ['Changjian Li']), ('Counterexample-Guided Repair of Reinforcement Learning Systems Using\\n  Safety Critics', ['David Boetius', 'Stefan Leue']), ('Deep Reinforcement Learning in Computer Vision: A Comprehensive Survey', ['Ngan Le', 'Vidhiwar Singh Rathour', 'Kashu Yamazaki', 'Khoa Luu', 'Marios Savvides']), ('Asymptotic properties of a multicolored random reinforced urn model with\\n  an application to multi-armed bandits', ['Li Yang', 'Jiang Hu', 'Jianghao Li', 'Zhidong Bai']), ('Causal Reinforcement Learning: A Survey', ['Zhihong Deng', 'Jing Jiang', 'Guodong Long', 'Chengqi Zhang']), ('Edge- and vertex-reinforced random walks with super-linear reinforcement\\n  on infinite graphs', ['Codina Cotar', 'Debleena Thacker']), (\"Memory-two strategies forming symmetric mutual reinforcement learning\\n  equilibrium in repeated prisoners' dilemma game\", ['Masahiko Ueda']), ('Distributed Deep Reinforcement Learning: A Survey and A Multi-Player\\n  Multi-Agent Learning Toolbox', ['Qiyue Yin', 'Tongtong Yu', 'Shengqi Shen', 'Jun Yang', 'Meijing Zhao', 'Kaiqi Huang', 'Bin Liang', 'Liang Wang'])]\n"
     ]
    }
   ],
   "source": [
    "# Can pass a topic or a list of topics\n",
    "topic_list = [\"negative sampling\", \"llm\", [\"reinforcement learning\", \"transformers\"]]\n",
    "for topic in topic_list:\n",
    "    print(f\"Topic: {topic}\")\n",
    "    print([(paper['title'], paper['authors']) for paper in extract_paper_info(get_content_by_topic(topic, filter_type='any'))])"
   ]
  },
  {
   "cell_type": "markdown",
   "metadata": {},
   "source": [
    "### 3. Get list of papers using author name"
   ]
  },
  {
   "cell_type": "code",
   "execution_count": 25,
   "metadata": {},
   "outputs": [
    {
     "name": "stdout",
     "output_type": "stream",
     "text": [
      "http://export.arxiv.org/api/query?search_query=au%3Ahinton+geoff\n",
      "10\n"
     ]
    },
    {
     "data": {
      "text/plain": [
       "[{'title': 'Ground based gamma-ray astronomy with Cherenkov Telescopes',\n",
       "  'authors': ['Jim Hinton'],\n",
       "  'summary': 'Very-high-energy (>100 GeV) gamma-ray astronomy is emerging as an important\\ndiscipline in both high energy astrophysics and astro-particle physics. This\\nfield is currently dominated by Imaging Atmospheric-Cherenkov Telescopes\\n(IACTs) and arrays of these telescopes. Such arrays have achieved the best\\nangular resolution and energy flux sensitivity in the gamma-ray domain and are\\nstill far from the fundamental limits of the technique. Here I will summarise\\nsome key aspects of this technique and go on to review the current status of\\nthe major instruments and to highlight selected recent results.'},\n",
       " {'title': 'Extraction of Cosmological Information from WiggleZ',\n",
       "  'authors': ['Samuel Hinton'],\n",
       "  'summary': 'In this thesis, I analyse the 2D anisotropic Baryon Acoustic Oscillation\\n(BAO) signal present in the final WiggleZ dataset. I utilise newly released\\ncovariance matrices from the WizCOLA simulations and follow well tested\\nmethodologies used in prior analyses of the BAO signal in alternative datasets.\\nThe WiggleZ data is presented in two forms - in multipole expansion and in data\\nwedges - both of which are analysed in this thesis. I test my model against\\nprevious one dimensional analyses of the BAO signal in the WiggleZ data and\\nagainst WizCOLA simulations, and find it to be free of bias or systematic\\noffsets. However, the analysis on the wedge data format was unable to properly\\nconstrain cosmological parameters, and thus discarded in favour of the\\nmultipole analysis. The multipole analysis determined $\\\\Omega_c h^2$, $H(z)$\\nand $D_A(z)$ for three redshift bins, of effective redshifts $z = 0.44, 0.60$\\nand $0.73$. The respective constraints on $\\\\Omega_c h^2$ are\\n$0.119^{+0.029}_{-0.026}$, $0.151^{+0.038}_{-0.025}$ and\\n$0.140^{+0.036}_{-0.022}$. The fits for $H(z)$ are respectively $87 \\\\pm 16$,\\n$90 \\\\pm 15$ and $82 \\\\pm 13$ km s$^{-1}$ Mpc$^{-1}$, and for $D_A(z)$ I find\\nvalues of $1300 \\\\pm 160$, $1300 \\\\pm 180$ and $1350 \\\\pm 160$ Mpc. These\\ncosmological constraints are consistent with Flat $\\\\Lambda$CDM cosmology.'},\n",
       " {'title': 'How to represent part-whole hierarchies in a neural network',\n",
       "  'authors': ['Geoffrey Hinton'],\n",
       "  'summary': 'This paper does not describe a working system. Instead, it presents a single\\nidea about representation which allows advances made by several different\\ngroups to be combined into an imaginary system called GLOM. The advances\\ninclude transformers, neural fields, contrastive representation learning,\\ndistillation and capsules. GLOM answers the question: How can a neural network\\nwith a fixed architecture parse an image into a part-whole hierarchy which has\\na different structure for each image? The idea is simply to use islands of\\nidentical vectors to represent the nodes in the parse tree. If GLOM can be made\\nto work, it should significantly improve the interpretability of the\\nrepresentations produced by transformer-like systems when applied to vision or\\nlanguage'},\n",
       " {'title': 'The Forward-Forward Algorithm: Some Preliminary Investigations',\n",
       "  'authors': ['Geoffrey Hinton'],\n",
       "  'summary': 'The aim of this paper is to introduce a new learning procedure for neural\\nnetworks and to demonstrate that it works well enough on a few small problems\\nto be worth further investigation. The Forward-Forward algorithm replaces the\\nforward and backward passes of backpropagation by two forward passes, one with\\npositive (i.e. real) data and the other with negative data which could be\\ngenerated by the network itself. Each layer has its own objective function\\nwhich is simply to have high goodness for positive data and low goodness for\\nnegative data. The sum of the squared activities in a layer can be used as the\\ngoodness but there are many other possibilities, including minus the sum of the\\nsquared activities. If the positive and negative passes could be separated in\\ntime, the negative passes could be done offline, which would make the learning\\nmuch simpler in the positive pass and allow video to be pipelined through the\\nnetwork without ever storing activities or stopping to propagate derivatives.'},\n",
       " {'title': 'Gamma-ray Astronomy',\n",
       "  'authors': ['Jim Hinton'],\n",
       "  'summary': 'The relevance of gamma-ray astronomy to the search for the origin of the\\ngalactic and, to a lesser extent, the ultra-high-energy cosmic rays has long\\nbeen recognised. The current renaissance in the TeV gamma-ray field has\\nresulted in a wealth of new data on galactic and extragalactic particle\\naccelerators, and almost all the new results in this field were presented at\\nthe recent International Cosmic Ray Conference (ICRC). Here I summarise the 175\\npapers submitted on the topic of gamma-ray astronomy to the 30th ICRC in\\nMerida, Mexico in July 2007.'},\n",
       " {'title': 'Inferring rheology from free-surface observations',\n",
       "  'authors': ['Edward M. Hinton'],\n",
       "  'summary': 'We develop direct inversion methods for inferring the rheology of a fluid\\nfrom observations of its shallow flow. First, the evolution equation for the\\nfree-surface flow of an inertia-less current with general constitutive law is\\nderived. The relationship between the volume flux of fluid and the basal\\nstress, $\\\\tau_b$ is encapsulated by a single function $F(\\\\tau_b)$, which\\ndepends only on the constitutive law. The inversion method consists of (i)\\ndetermining the flux and basal stress from the free-surface evolution, (ii)\\ncomparing the flux to the basal stress to constrain $F$ and (iii) inferring the\\nconstitutive law from $F$. Examples are presented for both steady and transient\\nfree-surface flows demonstrating that a wide range of constitutive laws can be\\ndirectly obtained. For flows in which the free-surface velocity is known, we\\nderive a different method, which circumvents the need to calculate the flux.'},\n",
       " {'title': 'Inverse Compton Scenarios for the TeV Gamma-Ray Emission of the Galactic\\n  Centre',\n",
       "  'authors': ['J. A. Hinton', 'F. A. Aharonian'],\n",
       "  'summary': 'The intense Compton cooling of ultra-relativistic electrons in the\\nKlein-Nishina regime in radiation dominated environments, such as that found in\\nthe Galactic Centre, may result in radically different electron spectra than\\nthose produced by Synchrotron cooling. We explore these effects and their\\nimpact on the X-ray and gamma-ray spectra produced in electron accelerators in\\nthis region in comparison to elsewhere in our galaxy. We discuss the broad-band\\nemission expected from the newly discovered pulsar wind nebula G 359.95-0.04\\nand the possible relationship of this X-ray source to the central TeV gamma-ray\\nsource HESS J1745-290. Finally we discuss the possible relationship of the\\nGalactic Centre INTEGRAL source IGR J1745.6-2901 to the TeV emission.'},\n",
       " {'title': 'Background Modelling in Very-High-Energy gamma-ray Astronomy',\n",
       "  'authors': ['D. Berge', 'S. Funk', 'J. Hinton'],\n",
       "  'summary': 'Ground based Cherenkov telescope systems measure astrophysical gamma-ray\\nemission against a background of cosmic-ray induced air showers. The\\nsubtraction of this background is a major challenge for the extraction of\\nspectra and morphology of gamma-ray sources. The unprecedented sensitivity of\\nthe new generation of ground based very-high-energy gamma-ray experiments such\\nas H.E.S.S. has lead to the discovery of many previously unknown extended\\nsources. The analysis of such sources requires a range of different background\\nmodelling techniques. Here we describe some of the techniques that have been\\napplied to data from the H.E.S.S. instrument and compare their performance.\\nEach background model is introduced and discussed in terms of suitability for\\nimage generation or spectral analysis and possible caveats are mentioned. We\\nshow that there is not a single multi-purpose model, different models are\\nappropriate for different tasks. To keep systematic uncertainties under control\\nit is important to apply several models to the same data set and compare the\\nresults.'},\n",
       " {'title': 'Monte-Carlo studies of the angular resolution of a future Cherenkov\\n  gamma-ray telescope',\n",
       "  'authors': ['S. Funk', 'J. A. Hinton'],\n",
       "  'summary': \"The current generation of Imaging Atmospheric telescopes (IACTs) has\\ndemonstrated the power of this observational technique, providing high\\nsensitivity and an angular resolution of $\\\\sim0.1^{\\\\circ}$ per event above an\\nenergy threshold of $\\\\sim$100 GeV. Planned future arrays of IACTs such as AGIS\\nor CTA are aiming at significantly improving the angular resolution.\\nPreliminary results have shown that values down to $\\\\sim 1'$ might be\\nachievable. Here we present results of Monte-Carlo simulations that aim to\\nexploring the limits of angular resolution for next generation IACTs and\\ninvestigate how the resolution can be optimised by changes to array and\\ntelescope parameters such as the number of pixel in the camera, the field of\\nview of the camera, the angular pixel size, the mirror size, and also the\\ntelescope separation.\"},\n",
       " {'title': 'Simulation studies of the high-energy component of a future imaging\\n  Cherenkov telescope array',\n",
       "  'authors': ['S. Funk', 'J. A. Hinton'],\n",
       "  'summary': \"The current generation of Imaging Atmospheric telescopes (IACTs) has\\ndemonstrated the power of the technique in an energy range between ~100 GeV up\\nto several tens of TeV. At the high-energy end, these instruments are limited\\nby photon statistics. Future arrays of IACTs such as CTA or AGIS are planned to\\npush into the energy range beyond 100 TeV. Scientifically, this region is very\\npromising, providing a probe of particles up to the 'knee' in the cosmic ray\\nspectrum and access to an unexplored region in the spectra of nearby\\nextragalactic sources. We present first results from our simulation studies of\\nthe high-energy part of a future IACT array and discuss the design parameters\\nof such an array.\"}]"
      ]
     },
     "execution_count": 25,
     "metadata": {},
     "output_type": "execute_result"
    }
   ],
   "source": [
    "paper_list = extract_paper_info(get_content_by_author('hinton geoff', print_url=True))\n",
    "\n",
    "print(len(paper_list))\n",
    "paper_list # API call filtering not accurate - need to add post filtering"
   ]
  }
 ],
 "metadata": {
  "kernelspec": {
   "display_name": "author-search",
   "language": "python",
   "name": "python3"
  },
  "language_info": {
   "codemirror_mode": {
    "name": "ipython",
    "version": 3
   },
   "file_extension": ".py",
   "mimetype": "text/x-python",
   "name": "python",
   "nbconvert_exporter": "python",
   "pygments_lexer": "ipython3",
   "version": "3.11.10"
  }
 },
 "nbformat": 4,
 "nbformat_minor": 2
}
