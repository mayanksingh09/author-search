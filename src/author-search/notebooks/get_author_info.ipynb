{
 "cells": [
  {
   "cell_type": "markdown",
   "metadata": {},
   "source": [
    "# Huggingface AK and research community papers"
   ]
  },
  {
   "cell_type": "markdown",
   "metadata": {},
   "source": [
    "Flow to get info from AK and research community papers"
   ]
  },
  {
   "cell_type": "markdown",
   "metadata": {},
   "source": [
    "## Initial setup"
   ]
  },
  {
   "cell_type": "code",
   "execution_count": 1,
   "metadata": {},
   "outputs": [],
   "source": [
    "import sys\n",
    "import os\n",
    "\n",
    "current_dir = os.getcwd()\n",
    "parent_dir = os.path.abspath(os.path.join(current_dir, '..'))\n",
    "\n",
    "if parent_dir not in sys.path:\n",
    "    sys.path.append(parent_dir)\n",
    "\n",
    "from scripts.hf_scraper_script import HFPapersScraper\n",
    "from scripts.arxiv_utils import *"
   ]
  },
  {
   "cell_type": "markdown",
   "metadata": {},
   "source": [
    "## Getting a list of authors from the papers"
   ]
  },
  {
   "cell_type": "markdown",
   "metadata": {},
   "source": [
    "### 1. Get list of authors from a list of papers on huggingface: [AK and community daily papers](https://huggingface.co/papers)"
   ]
  },
  {
   "cell_type": "code",
   "execution_count": 3,
   "metadata": {},
   "outputs": [
    {
     "name": "stdout",
     "output_type": "stream",
     "text": [
      "2411.04928 ['Wenqiang Sun', 'Shuo Chen', 'Fangfu Liu', 'Zilong Chen', 'Yueqi Duan', 'Jun Zhang', 'Yikai Wang']\n",
      "2411.04923 ['Shehan Munasinghe', 'Hanan Gani', 'Wenqi Zhu', 'Jiale Cao', 'Eric Xing', 'Fahad Shahbaz Khan', 'Salman Khan']\n",
      "2411.04709 ['Wenhao Wang', 'Yi Yang']\n",
      "2411.04335 ['He-Yen Hsieh', 'Ziyun Li', 'Sai Qian Zhang', 'Wei-Te Mark Ting', 'Kao-Den Chang', 'Barbara De Salvo', 'Chiao Liu', 'H. T. Kung']\n",
      "2411.04905 ['Siming Huang', 'Tianhao Cheng', 'Jason Klein Liu', 'Jiaran Hao', 'Liuyihan Song', 'Yang Xu', 'J. Yang', 'J. H. Liu', 'Chenchen Zhang', 'Linzheng Chai', 'Ruifeng Yuan', 'Zhaoxiang Zhang', 'Jie Fu', 'Qian Liu', 'Ge Zhang', 'Zili Wang', 'Yuan Qi', 'Yinghui Xu', 'Wei Chu']\n",
      "2411.04752 ['Aniket Deroy', 'Subhankar Maity']\n",
      "2411.05005 ['Shuhong Zheng', 'Zhipeng Bao', 'Ruoyu Zhao', 'Martial Hebert', 'Yu-Xiong Wang']\n",
      "2411.04496 ['Young-Jun Lee', 'Dokyong Lee', 'Junyoung Youn', 'Kyeongjin Oh', 'Ho-Jin Choi']\n",
      "2411.04075 ['Chuhan Li', 'Ziyao Shangguan', 'Yilun Zhao', 'Deyuan Li', 'Yixin Liu', 'Arman Cohan']\n",
      "2411.04965 ['Hongyu Wang', 'Shuming Ma', 'Furu Wei']\n",
      "2411.05007 ['Muyang Li', 'Yujun Lin', 'Zhekai Zhang', 'Tianle Cai', 'Xiuyu Li', 'Junxian Guo', 'Enze Xie', 'Chenlin Meng', 'Jun-Yan Zhu', 'Song Han']\n",
      "2411.05001 ['David M. Chan', 'Rodolfo Corona', 'Joonyong Park', 'Cheol Jun Cho', 'Yutong Bai', 'Trevor Darrell']\n",
      "2411.04952 ['Jaemin Cho', 'Debanjan Mahata', 'Ozan Irsoy', 'Yujie He', 'Mohit Bansal']\n",
      "2411.04996 ['Weixin Liang', 'Lili Yu', 'Liang Luo', 'Srinivasan Iyer', 'Ning Dong', 'Chunting Zhou', 'Gargi Ghosh', 'Mike Lewis', 'Wen-tau Yih', 'Luke Zettlemoyer', 'Xi Victoria Lin']\n",
      "2411.04999 ['Peiqi Liu', 'Zhanqiu Guo', 'Mohit Warke', 'Soumith Chintala', 'Chris Paxton', 'Nur Muhammad Mahi Shafiullah', 'Lerrel Pinto']\n",
      "2411.05000 ['Jonathan Roberts', 'Kai Han', 'Samuel Albanie']\n",
      "2411.05003 ['David Junhao Zhang', 'Roni Paiss', 'Shiran Zada', 'Nikhil Karnad', 'David E. Jacobs', 'Yael Pritch', 'Inbar Mosseri', 'Mike Zheng Shou', 'Neal Wadhwa', 'Nataniel Ruiz']\n",
      "2411.04989 ['Koichi Namekata', 'Sherwin Bahmani', 'Ziyi Wu', 'Yash Kant', 'Igor Gilitschenski', 'David B. Lindell']\n"
     ]
    }
   ],
   "source": [
    "# initialize Huggingface scraper class\n",
    "hf_papers_scraper = HFPapersScraper()\n",
    "\n",
    "# get arxiv ids from the links\n",
    "arxiv_ids = hf_papers_scraper.get_paper_ids()\n",
    "\n",
    "# Loop through the arxiv ids and get the authors through the arxiv API and XML parsing\n",
    "for arxiv_id in arxiv_ids:\n",
    "    xml_content = get_content_by_id(arxiv_id)\n",
    "    print(arxiv_id, extract_paper_info(xml_content)[0]['authors'])"
   ]
  },
  {
   "cell_type": "markdown",
   "metadata": {},
   "source": [
    "### 2. Get list of paper authors by topic from ArXiv"
   ]
  },
  {
   "cell_type": "code",
   "execution_count": null,
   "metadata": {},
   "outputs": [
    {
     "name": "stdout",
     "output_type": "stream",
     "text": [
      "Topic: negative sampling\n",
      "[('Entity Aware Negative Sampling with Auxiliary Loss of False Negative\\n  Prediction for Knowledge Graph Embedding', ['Sang-Hyun Je']), ('Does Negative Sampling Matter? A Review with Insights into its Theory\\n  and Applications', ['Zhen Yang', 'Ming Ding', 'Tinglin Huang', 'Yukuo Cen', 'Junshuai Song', 'Bin Xu', 'Yuxiao Dong', 'Jie Tang']), ('Bayesian Negative Sampling for Recommendation', ['Bin Liu', 'Bang Wang']), ('Synthetic Hard Negative Samples for Contrastive Learning', ['Hengkui Dong', 'Xianzhong Long', 'Yun Li', 'Lei Chen']), ('UFNRec: Utilizing False Negative Samples for Sequential Recommendation', ['Xiaoyang Liu', 'Chong Liu', 'Pinzheng Wang', 'Rongqin Zheng', 'Lixin Zhang', 'Leyu Lin', 'Zhijun Chen', 'Liangliang Fu']), ('Rethinking Samples Selection for Contrastive Learning: Mining of\\n  Potential Samples', ['Hengkui Dong', 'Xianzhong Long', 'Yun Li']), ('MixKG: Mixing for harder negative samples in knowledge graph', ['Feihu Che', 'Guohua Yang', 'Pengpeng Shao', 'Dawei Zhang', 'Jianhua Tao']), ('From Overfitting to Robustness: Quantity, Quality, and Variety Oriented\\n  Negative Sample Selection in Graph Contrastive Learning', ['Adnan Ali', 'Jinlong Li', 'Huanhuan Chen', 'Ali Kashif Bashir']), ('Augmented Negative Sampling for Collaborative Filtering', ['Yuhan Zhao', 'Rui Chen', 'Riwei Lai', 'Qilong Han', 'Hongtao Song', 'Li Chen']), ('Rethinking InfoNCE: How Many Negative Samples Do You Need?', ['Chuhan Wu', 'Fangzhao Wu', 'Yongfeng Huang'])]\n",
      "Topic: llm\n",
      "[('Large Language Models as Software Components: A Taxonomy for\\n  LLM-Integrated Applications', ['Irene Weber']), ('Parrot: Efficient Serving of LLM-based Applications with Semantic\\n  Variable', ['Chaofan Lin', 'Zhenhua Han', 'Chengruidong Zhang', 'Yuqing Yang', 'Fan Yang', 'Chen Chen', 'Lili Qiu']), ('A Survey of Large Language Models for Code: Evolution, Benchmarking, and\\n  Future Trends', ['Zibin Zheng', 'Kaiwen Ning', 'Yanlin Wang', 'Jingwen Zhang', 'Dewu Zheng', 'Mingxi Ye', 'Jiachi Chen']), ('A Survey of Large Language Models on Generative Graph Analytics: Query,\\n  Learning, and Applications', ['Wenbo Shang', 'Xin Huang']), (\"TEST: Text Prototype Aligned Embedding to Activate LLM's Ability for\\n  Time Series\", ['Chenxi Sun', 'Hongyan Li', 'Yaliang Li', 'Shenda Hong']), ('From LLMs to LLM-based Agents for Software Engineering: A Survey of\\n  Current, Challenges and Future', ['Haolin Jin', 'Linghan Huang', 'Haipeng Cai', 'Jun Yan', 'Bo Li', 'Huaming Chen']), ('Large Language Model Supply Chain: Open Problems From the Security\\n  Perspective', ['Qiang Hu', 'Xiaofei Xie', 'Sen Chen', 'Lei Ma']), ('MEGAnno+: A Human-LLM Collaborative Annotation System', ['Hannah Kim', 'Kushan Mitra', 'Rafael Li Chen', 'Sajjadur Rahman', 'Dan Zhang']), ('Why and When LLM-Based Assistants Can Go Wrong: Investigating the\\n  Effectiveness of Prompt-Based Interactions for Software Help-Seeking', ['Anjali Khurana', 'Hari Subramonyam', 'Parmit K Chilana']), ('Systematic Evaluation of LLM-as-a-Judge in LLM Alignment Tasks:\\n  Explainable Metrics and Diverse Prompt Templates', ['Hui Wei', 'Shenghua He', 'Tian Xia', 'Andy Wong', 'Jingyang Lin', 'Mei Han'])]\n",
      "Topic: ['reinforcement learning', 'transformers']\n",
      "[('Recurrence for vertex-reinforced random walks on Z with weak\\n  reinforcements', ['Arvind Singh']), ('Large deviations in the reinforced random walk model on trees', ['Yu Zhang']), ('Some Insights into Lifelong Reinforcement Learning Systems', ['Changjian Li']), ('Counterexample-Guided Repair of Reinforcement Learning Systems Using\\n  Safety Critics', ['David Boetius', 'Stefan Leue']), ('Deep Reinforcement Learning in Computer Vision: A Comprehensive Survey', ['Ngan Le', 'Vidhiwar Singh Rathour', 'Kashu Yamazaki', 'Khoa Luu', 'Marios Savvides']), ('Asymptotic properties of a multicolored random reinforced urn model with\\n  an application to multi-armed bandits', ['Li Yang', 'Jiang Hu', 'Jianghao Li', 'Zhidong Bai']), ('Causal Reinforcement Learning: A Survey', ['Zhihong Deng', 'Jing Jiang', 'Guodong Long', 'Chengqi Zhang']), ('Edge- and vertex-reinforced random walks with super-linear reinforcement\\n  on infinite graphs', ['Codina Cotar', 'Debleena Thacker']), (\"Memory-two strategies forming symmetric mutual reinforcement learning\\n  equilibrium in repeated prisoners' dilemma game\", ['Masahiko Ueda']), ('Distributed Deep Reinforcement Learning: A Survey and A Multi-Player\\n  Multi-Agent Learning Toolbox', ['Qiyue Yin', 'Tongtong Yu', 'Shengqi Shen', 'Jun Yang', 'Meijing Zhao', 'Kaiqi Huang', 'Bin Liang', 'Liang Wang'])]\n"
     ]
    }
   ],
   "source": [
    "# Can pass a topic or a list of topics\n",
    "topic_list = [\"negative sampling\", \"llm\", [\"reinforcement learning\", \"transformers\"]]\n",
    "for topic in topic_list:\n",
    "    print(f\"Topic: {topic}\")\n",
    "    print([(paper['title'], paper['authors']) for paper in extract_paper_info(get_content_by_topic(topic, filter_type='any'))])"
   ]
  }
 ],
 "metadata": {
  "kernelspec": {
   "display_name": "author-search",
   "language": "python",
   "name": "python3"
  },
  "language_info": {
   "codemirror_mode": {
    "name": "ipython",
    "version": 3
   },
   "file_extension": ".py",
   "mimetype": "text/x-python",
   "name": "python",
   "nbconvert_exporter": "python",
   "pygments_lexer": "ipython3",
   "version": "3.11.10"
  }
 },
 "nbformat": 4,
 "nbformat_minor": 2
}
